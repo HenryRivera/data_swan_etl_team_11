{
 "cells": [
  {
   "cell_type": "code",
   "execution_count": null,
   "id": "3b9690aa",
   "metadata": {},
   "outputs": [],
   "source": [
    "import json\n",
    "import requests\n",
    "import pandas as pd\n",
    "import io\n",
    "import boto3"
   ]
  },
  {
   "cell_type": "code",
   "execution_count": null,
   "id": "70c3eb05",
   "metadata": {},
   "outputs": [],
   "source": [
    "# Setting global vars\n",
    "FILENAME = \"aws_secrets.json\"\n",
    "S3_BUCKET = \"team11-datalake\""
   ]
  },
  {
   "cell_type": "code",
   "execution_count": null,
   "id": "ef58e339",
   "metadata": {},
   "outputs": [],
   "source": [
    "def get_aws_session(file_name):\n",
    "    with open(file_name, \"r\") as secrets:\n",
    "        config = json.load(secrets)\n",
    "    \n",
    "    session = boto3.Session(\n",
    "        aws_access_key_id = config[\"aws_access_key_id\"],\n",
    "        aws_secret_access_key = config[\"aws_secret_access_key\"]\n",
    "    )\n",
    "    return session.resource('s3'), config[\"aws_access_key_id\"], config[\"aws_secret_access_key\"]"
   ]
  },
  {
   "cell_type": "code",
   "execution_count": null,
   "id": "2bac1181",
   "metadata": {},
   "outputs": [],
   "source": [
    "move_data_to_s3(ids)"
   ]
  },
  {
   "attachments": {},
   "cell_type": "markdown",
   "id": "f5ee0af6",
   "metadata": {},
   "source": [
    "# Getting data - Reference"
   ]
  },
  {
   "cell_type": "code",
   "execution_count": null,
   "id": "978ea2b9",
   "metadata": {},
   "outputs": [],
   "source": [
    "usecols=[\"Date_of_Payment\", \"Product_Category_or_Therapeutic_Area_1\", \"Recipient_State\", \"Recipient_City\", \"Covered_Recipient_Type\", \"Total_Amount_of_Payment_USDollars\"]\n"
   ]
  },
  {
   "cell_type": "code",
   "execution_count": null,
   "id": "21a835eb",
   "metadata": {},
   "outputs": [],
   "source": [
    "S3_BUCKET = \"team11-datalake\"\n",
    "FILE_NAME = \"aws_secrets.json\""
   ]
  },
  {
   "cell_type": "code",
   "execution_count": null,
   "id": "b5ebe628",
   "metadata": {},
   "outputs": [],
   "source": [
    "s3 = get_aws_session(FILE_NAME)"
   ]
  },
  {
   "cell_type": "code",
   "execution_count": null,
   "id": "1368543c",
   "metadata": {},
   "outputs": [],
   "source": [
    "s3 = get_aws_session(FILE_NAME)\n",
    "my_bucket = s3.Bucket(S3_BUCKET)"
   ]
  },
  {
   "cell_type": "code",
   "execution_count": null,
   "id": "a83deef2",
   "metadata": {},
   "outputs": [],
   "source": [
    "objects = my_bucket.objects.filter()\n",
    "for obj in objects:\n",
    "    print(obj.key)"
   ]
  },
  {
   "cell_type": "code",
   "execution_count": null,
   "id": "7a8b7b90",
   "metadata": {},
   "outputs": [],
   "source": [
    "# /var/lib/cloud/scripts/per-boot"
   ]
  }
 ],
 "metadata": {
  "kernelspec": {
   "display_name": ".ds4a_env",
   "language": "python",
   "name": ".ds4a_env"
  },
  "language_info": {
   "codemirror_mode": {
    "name": "ipython",
    "version": 3
   },
   "file_extension": ".py",
   "mimetype": "text/x-python",
   "name": "python",
   "nbconvert_exporter": "python",
   "pygments_lexer": "ipython3",
   "version": "3.9.0"
  }
 },
 "nbformat": 4,
 "nbformat_minor": 5
}
