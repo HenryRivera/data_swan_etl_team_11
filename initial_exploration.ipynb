{
 "cells": [
  {
   "cell_type": "code",
   "execution_count": 20,
   "id": "3b9690aa",
   "metadata": {},
   "outputs": [],
   "source": [
    "import json\n",
    "import requests\n",
    "import pandas as pd\n",
    "import io"
   ]
  },
  {
   "cell_type": "markdown",
   "id": "941ad7cd",
   "metadata": {},
   "source": [
    "# Step 1 Read Meta Data  & End Points "
   ]
  },
  {
   "cell_type": "code",
   "execution_count": 2,
   "id": "6e3d94d7",
   "metadata": {},
   "outputs": [],
   "source": [
    "def get_ids(start, end):\n",
    "    years = [str(x) for x in range(start, end+1)]\n",
    "    ids = {\"General\": [], \"Research\": [], \"Ownership\": []}\n",
    "    url = 'https://openpaymentsdata.cms.gov/api/1/metastore/schemas/dataset/items?show-reference-ids'\n",
    "    data = requests.get(url).json()\n",
    "    for d in data:\n",
    "        split_title = d['title'].split(\" \")\n",
    "        identifier = d['identifier']\n",
    "        if split_title[0] in years:\n",
    "            if split_title[1] in ids:\n",
    "                ids[split_title[1]].append(identifier)\n",
    "    return ids"
   ]
  },
  {
   "cell_type": "code",
   "execution_count": 3,
   "id": "c4d4a0c7",
   "metadata": {},
   "outputs": [],
   "source": [
    "ids = get_ids(2020, 2021)"
   ]
  },
  {
   "cell_type": "code",
   "execution_count": null,
   "id": "64129274",
   "metadata": {},
   "outputs": [],
   "source": [
    "usecols=[\"Date_of_Payment\", \"Product_Category_or_Therapeutic_Area_1\", \"Recipient_State\", \"Recipient_City\", \"Covered_Recipient_Type\", \"Total_Amount_of_Payment_USDollars\"]\n",
    "\n"
   ]
  },
  {
   "cell_type": "code",
   "execution_count": 34,
   "id": "e67a1a87",
   "metadata": {},
   "outputs": [],
   "source": [
    "def get_datasets(id_list):\n",
    "    for category, category_ids in id_list.items():\n",
    "        for category_id in category_ids:\n",
    "            url = 'https://openpaymentsdata.cms.gov/api/1/metastore/schemas/dataset/items/{}'.format(category_id)\n",
    "            data = requests.get(url).json()\n",
    "            download = data[\"distribution\"][0][\"downloadURL\"]\n",
    "            try:\n",
    "                response = requests.get(download)\n",
    "                df = pd.read_csv(io.BytesIO(response.content))\n",
    "                memory_usage = df.memory_usage(deep=True)\n",
    "                # Sum up the memory usage of all columns\n",
    "                total_memory_usage = memory_usage.sum()\n",
    "                total_memory_usage_gb = total_memory_usage / (1024 ** 3)\n",
    "                # Print the total memory usage\n",
    "                print(category_id)\n",
    "                print(\"Total memory usage:\", total_memory_usage_gb)\n",
    "                print(\"\\n\\n\")\n",
    "            except Exception as e:\n",
    "                print(\"Failed to download:\", download, \"Error:\", e)"
   ]
  },
  {
   "cell_type": "code",
   "execution_count": 35,
   "id": "2bac1181",
   "metadata": {},
   "outputs": [
    {
     "name": "stdout",
     "output_type": "stream",
     "text": [
      "a08c4b30-5cf3-4948-ad40-36f404619019\n",
      "Total memory usage: 19.152176369912922\n",
      "\n",
      "\n",
      "\n"
     ]
    },
    {
     "name": "stderr",
     "output_type": "stream",
     "text": [
      "/Users/henryrivera/anaconda3/lib/python3.8/site-packages/IPython/core/interactiveshell.py:3357: DtypeWarning: Columns (4,8,10,12,15,17,18,20,21,22,23,24,26,27,32,33,34,35,39,46,47,48,49,51,52,53,54,60,61,62,63,64,65,66,67,68,69,70,71,72,73,74,75,76,77,78,79,80,81,82,83,84,85,86,87,88) have mixed types.Specify dtype option on import or set low_memory=False.\n",
      "  if (await self.run_code(code, result,  async_=asy)):\n"
     ]
    },
    {
     "name": "stdout",
     "output_type": "stream",
     "text": [
      "0380bbeb-aea1-58b6-b708-829f92a48202\n",
      "Total memory usage: 40.61275569628924\n",
      "\n",
      "\n",
      "\n"
     ]
    },
    {
     "name": "stderr",
     "output_type": "stream",
     "text": [
      "/Users/henryrivera/anaconda3/lib/python3.8/site-packages/IPython/core/interactiveshell.py:3357: DtypeWarning: Columns (2,5,8,9,10,11,18,19,20,26,32,33,34,35,36,50,51,67,68,75,77,80,97,98,99,101,104,105,106,107,108,109,110,111,112,113,116,122,128,133,136,137,138,140,141,142,143,144,145,148,154,160,161,165,168,169,170,172,173,174,175,176,177,180,186,192,193,208,214,220,231,237,238,239) have mixed types.Specify dtype option on import or set low_memory=False.\n",
      "  if (await self.run_code(code, result,  async_=asy)):\n"
     ]
    },
    {
     "name": "stdout",
     "output_type": "stream",
     "text": [
      "ce1d28dd-0094-5060-a036-580329439600\n",
      "Total memory usage: 4.5447870986536145\n",
      "\n",
      "\n",
      "\n"
     ]
    },
    {
     "name": "stderr",
     "output_type": "stream",
     "text": [
      "/Users/henryrivera/anaconda3/lib/python3.8/site-packages/IPython/core/interactiveshell.py:3357: DtypeWarning: Columns (2,5,8,9,10,11,18,19,20,26,32,33,34,35,50,51,67,68,73,75,77,80,97,98,101,104,105,106,107,108,109,110,111,112,113,116,122,128,129,133,136,137,138,140,141,142,143,144,145,148,154,160,165,168,169,170,172,174,175,177,180,186,192,225,231,237,238,239,240,241) have mixed types.Specify dtype option on import or set low_memory=False.\n",
      "  if (await self.run_code(code, result,  async_=asy)):\n"
     ]
    },
    {
     "name": "stdout",
     "output_type": "stream",
     "text": [
      "9c248e7e-7c7f-478b-ab84-ce0919d72c1c\n",
      "Total memory usage: 4.217758557759225\n",
      "\n",
      "\n",
      "\n",
      "b0c03b8d-06df-58f2-8ce2-4daeffee147e\n",
      "Total memory usage: 0.004334874451160431\n",
      "\n",
      "\n",
      "\n",
      "a9a0bf48-6b96-4589-b4c2-3c5dcfbeaca2\n",
      "Total memory usage: 0.004918631166219711\n",
      "\n",
      "\n",
      "\n"
     ]
    }
   ],
   "source": [
    "df = get_datasets(ids)"
   ]
  },
  {
   "cell_type": "code",
   "execution_count": null,
   "id": "2dbc6394",
   "metadata": {},
   "outputs": [],
   "source": []
  }
 ],
 "metadata": {
  "kernelspec": {
   "display_name": "Python 3",
   "language": "python",
   "name": "python3"
  },
  "language_info": {
   "codemirror_mode": {
    "name": "ipython",
    "version": 3
   },
   "file_extension": ".py",
   "mimetype": "text/x-python",
   "name": "python",
   "nbconvert_exporter": "python",
   "pygments_lexer": "ipython3",
   "version": "3.8.5"
  }
 },
 "nbformat": 4,
 "nbformat_minor": 5
}
