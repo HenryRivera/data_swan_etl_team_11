{
 "cells": [
  {
   "cell_type": "code",
   "execution_count": 1,
   "id": "3b9690aa",
   "metadata": {},
   "outputs": [],
   "source": [
    "import json\n",
    "import requests\n",
    "import pandas as pd\n",
    "import io"
   ]
  },
  {
   "cell_type": "code",
   "execution_count": null,
   "id": "0ee1c993",
   "metadata": {},
   "outputs": [],
   "source": []
  },
  {
   "cell_type": "markdown",
   "id": "941ad7cd",
   "metadata": {},
   "source": [
    "# Step 1 Read Meta Data  & End Points "
   ]
  },
  {
   "cell_type": "code",
   "execution_count": 2,
   "id": "6e3d94d7",
   "metadata": {},
   "outputs": [],
   "source": [
    "def get_ids(start, end):\n",
    "    years = [str(x) for x in range(start, end+1)]\n",
    "    ids = {\"General\": [], \"Research\": [], \"Ownership\": []}\n",
    "    url = 'https://openpaymentsdata.cms.gov/api/1/metastore/schemas/dataset/items?show-reference-ids'\n",
    "    data = requests.get(url).json()\n",
    "    for d in data:\n",
    "        split_title = d['title'].split(\" \")\n",
    "        identifier = d['identifier']\n",
    "        if split_title[0] in years:\n",
    "            if split_title[1] in ids:\n",
    "                ids[split_title[1]].append(identifier)\n",
    "    return ids"
   ]
  },
  {
   "cell_type": "code",
   "execution_count": 3,
   "id": "c4d4a0c7",
   "metadata": {},
   "outputs": [],
   "source": [
    "ids = get_ids(2020, 2021)"
   ]
  },
  {
   "cell_type": "code",
   "execution_count": 4,
   "id": "64129274",
   "metadata": {},
   "outputs": [],
   "source": [
    "usecols=[\"Date_of_Payment\", \"Product_Category_or_Therapeutic_Area_1\", \"Recipient_State\", \"Recipient_City\", \"Covered_Recipient_Type\", \"Total_Amount_of_Payment_USDollars\"]"
   ]
  },
  {
   "cell_type": "code",
   "execution_count": 5,
   "id": "e67a1a87",
   "metadata": {},
   "outputs": [],
   "source": [
    "def get_datasets(id_list):\n",
    "    for category, category_ids in id_list.items():\n",
    "        for category_id in category_ids:\n",
    "            url = 'https://openpaymentsdata.cms.gov/api/1/metastore/schemas/dataset/items/{}'.format(category_id)\n",
    "            data = requests.get(url).json()\n",
    "            download = data[\"distribution\"][0][\"downloadURL\"]\n",
    "            try:\n",
    "                response = requests.get(download)\n",
    "                df = pd.read_csv(io.BytesIO(response.content), nrows=10)\n",
    "                memory_usage = df.memory_usage(deep=True)\n",
    "                # Sum up the memory usage of all columns\n",
    "                total_memory_usage = memory_usage.sum()\n",
    "                total_memory_usage_gb = total_memory_usage / (1024 ** 3)\n",
    "                # Print the total memory usage\n",
    "                print(category)\n",
    "                print(\"Total memory usage:\", total_memory_usage_gb)\n",
    "                print(\"\\n\")\n",
    "            except Exception as e:\n",
    "                print(\"Failed to download:\", download, \"Error:\", e)"
   ]
  },
  {
   "cell_type": "code",
   "execution_count": 6,
   "id": "2bac1181",
   "metadata": {},
   "outputs": [
    {
     "name": "stdout",
     "output_type": "stream",
     "text": [
      "General\n",
      "Total memory usage: 2.4804845452308655e-05\n",
      "\n",
      "\n",
      "General\n",
      "Total memory usage: 2.5272369384765625e-05\n",
      "\n",
      "\n",
      "Research\n",
      "Total memory usage: 4.1046179831027985e-05\n",
      "\n",
      "\n",
      "Research\n",
      "Total memory usage: 4.139076918363571e-05\n",
      "\n",
      "\n",
      "Ownership\n",
      "Total memory usage: 1.2828968465328217e-05\n",
      "\n",
      "\n",
      "Ownership\n",
      "Total memory usage: 1.2950040400028229e-05\n",
      "\n",
      "\n"
     ]
    }
   ],
   "source": [
    "df = get_datasets(ids)"
   ]
  },
  {
   "cell_type": "code",
   "execution_count": 8,
   "id": "2dbc6394",
   "metadata": {},
   "outputs": [],
   "source": [
    "df"
   ]
  },
  {
   "cell_type": "code",
   "execution_count": null,
   "id": "21a835eb",
   "metadata": {},
   "outputs": [],
   "source": []
  }
 ],
 "metadata": {
  "kernelspec": {
   "display_name": "Python 3",
   "language": "python",
   "name": "python3"
  },
  "language_info": {
   "codemirror_mode": {
    "name": "ipython",
    "version": 3
   },
   "file_extension": ".py",
   "mimetype": "text/x-python",
   "name": "python",
   "nbconvert_exporter": "python",
   "pygments_lexer": "ipython3",
   "version": "3.8.5"
  }
 },
 "nbformat": 4,
 "nbformat_minor": 5
}
