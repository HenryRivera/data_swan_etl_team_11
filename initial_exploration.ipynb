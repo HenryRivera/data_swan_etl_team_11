{
 "cells": [
  {
   "cell_type": "code",
   "execution_count": 1,
   "id": "3b9690aa",
   "metadata": {},
   "outputs": [],
   "source": [
    "import json\n",
    "import requests\n",
    "import pandas as pd"
   ]
  },
  {
   "cell_type": "markdown",
   "id": "941ad7cd",
   "metadata": {},
   "source": [
    "# Step 1 Read Meta Data  & End Points "
   ]
  },
  {
   "cell_type": "code",
   "execution_count": 2,
   "id": "6e3d94d7",
   "metadata": {},
   "outputs": [],
   "source": [
    "def get_ids(start, end):\n",
    "    years = [str(x) for x in range(start, end+1)]\n",
    "    ids = {\"General\": [], \"Research\": [], \"Ownership\": []}\n",
    "    url = 'https://openpaymentsdata.cms.gov/api/1/metastore/schemas/dataset/items?show-reference-ids'\n",
    "    data = requests.get(url).json()\n",
    "    for d in data:\n",
    "        split_title = d['title'].split(\" \")\n",
    "        identifier = d['identifier']\n",
    "        if split_title[0] in years:\n",
    "            if split_title[1] in ids:\n",
    "                ids[split_title[1]].append(identifier)\n",
    "    return ids"
   ]
  },
  {
   "cell_type": "code",
   "execution_count": 3,
   "id": "c4d4a0c7",
   "metadata": {},
   "outputs": [],
   "source": [
    "ids = get_ids(2020, 2021)"
   ]
  },
  {
   "cell_type": "code",
   "execution_count": 4,
   "id": "4f320988",
   "metadata": {},
   "outputs": [
    {
     "data": {
      "text/plain": [
       "{'General': ['a08c4b30-5cf3-4948-ad40-36f404619019',\n",
       "  '0380bbeb-aea1-58b6-b708-829f92a48202'],\n",
       " 'Research': ['ce1d28dd-0094-5060-a036-580329439600',\n",
       "  '9c248e7e-7c7f-478b-ab84-ce0919d72c1c'],\n",
       " 'Ownership': ['b0c03b8d-06df-58f2-8ce2-4daeffee147e',\n",
       "  'a9a0bf48-6b96-4589-b4c2-3c5dcfbeaca2']}"
      ]
     },
     "execution_count": 4,
     "metadata": {},
     "output_type": "execute_result"
    }
   ],
   "source": [
    "ids"
   ]
  },
  {
   "cell_type": "code",
   "execution_count": 11,
   "id": "e67a1a87",
   "metadata": {},
   "outputs": [],
   "source": [
    "def get_datasets(id_list):\n",
    "    for category, category_ids in id_list.items():\n",
    "        for category_id in category_ids:\n",
    "            url = 'https://openpaymentsdata.cms.gov/api/1/metastore/schemas/dataset/items/{}'.format(category_id)\n",
    "            data = requests.get(url).json()\n",
    "            download = data[\"distribution\"][0][\"downloadURL\"]\n",
    "            try:\n",
    "                df = pd.read_csv(download, nrows=1)\n",
    "            except Exception as e:\n",
    "                print(\"Failed to download:\", download, \"Error:\", e)"
   ]
  },
  {
   "cell_type": "code",
   "execution_count": 12,
   "id": "2bac1181",
   "metadata": {},
   "outputs": [
    {
     "name": "stdout",
     "output_type": "stream",
     "text": [
      "Failed to download: https://download.cms.gov/openpayments/PGYR20_P012023/OP_DTL_GNRL_PGYR2020_P01202023.csv Error: signed integer is greater than maximum\n",
      "Failed to download: https://download.cms.gov/openpayments/PGYR21_P012023/OP_DTL_GNRL_PGYR2021_P01202023.csv Error: signed integer is greater than maximum\n"
     ]
    }
   ],
   "source": [
    "get_datasets(ids)"
   ]
  },
  {
   "cell_type": "code",
   "execution_count": null,
   "id": "2dbc6394",
   "metadata": {},
   "outputs": [],
   "source": []
  }
 ],
 "metadata": {
  "kernelspec": {
   "display_name": "Python 3",
   "language": "python",
   "name": "python3"
  },
  "language_info": {
   "codemirror_mode": {
    "name": "ipython",
    "version": 3
   },
   "file_extension": ".py",
   "mimetype": "text/x-python",
   "name": "python",
   "nbconvert_exporter": "python",
   "pygments_lexer": "ipython3",
   "version": "3.8.5"
  }
 },
 "nbformat": 4,
 "nbformat_minor": 5
}
